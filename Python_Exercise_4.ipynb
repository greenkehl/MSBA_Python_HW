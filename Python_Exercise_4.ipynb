{
  "nbformat": 4,
  "nbformat_minor": 0,
  "metadata": {
    "colab": {
      "name": "Python Exercise 4.ipynb",
      "provenance": [],
      "collapsed_sections": []
    },
    "kernelspec": {
      "name": "python3",
      "display_name": "Python 3"
    }
  },
  "cells": [
    {
      "cell_type": "code",
      "metadata": {
        "id": "cpbmTIIAVSna",
        "colab_type": "code",
        "colab": {}
      },
      "source": [
        "import pandas as pd\n",
        "import numpy as np\n",
        "import requests \n",
        "import json"
      ],
      "execution_count": 0,
      "outputs": []
    },
    {
      "cell_type": "code",
      "metadata": {
        "id": "7OJrtHD5VXsw",
        "colab_type": "code",
        "outputId": "64c2f2b8-e2c9-42ed-9e82-7d8b2c7e8539",
        "colab": {
          "base_uri": "https://localhost:8080/",
          "height": 34
        }
      },
      "source": [
        "from google.colab import drive\n",
        "drive.mount('/content/drive')"
      ],
      "execution_count": 0,
      "outputs": [
        {
          "output_type": "stream",
          "text": [
            "Drive already mounted at /content/drive; to attempt to forcibly remount, call drive.mount(\"/content/drive\", force_remount=True).\n"
          ],
          "name": "stdout"
        }
      ]
    },
    {
      "cell_type": "code",
      "metadata": {
        "id": "axgLDV8LVfMN",
        "colab_type": "code",
        "outputId": "6f48b67b-69f1-4a96-cc64-b5f12fcada66",
        "colab": {
          "base_uri": "https://localhost:8080/",
          "height": 204
        }
      },
      "source": [
        "msas = 'drive/My Drive/Colab Notebooks/msas.csv'\n",
        "msas = pd.read_csv(msas)\n",
        "msas.head()"
      ],
      "execution_count": 0,
      "outputs": [
        {
          "output_type": "execute_result",
          "data": {
            "text/html": [
              "<div>\n",
              "<style scoped>\n",
              "    .dataframe tbody tr th:only-of-type {\n",
              "        vertical-align: middle;\n",
              "    }\n",
              "\n",
              "    .dataframe tbody tr th {\n",
              "        vertical-align: top;\n",
              "    }\n",
              "\n",
              "    .dataframe thead th {\n",
              "        text-align: right;\n",
              "    }\n",
              "</style>\n",
              "<table border=\"1\" class=\"dataframe\">\n",
              "  <thead>\n",
              "    <tr style=\"text-align: right;\">\n",
              "      <th></th>\n",
              "      <th>CBSA</th>\n",
              "      <th>NAME</th>\n",
              "      <th>POPESTIMATE2017</th>\n",
              "    </tr>\n",
              "  </thead>\n",
              "  <tbody>\n",
              "    <tr>\n",
              "      <th>0</th>\n",
              "      <td>10180</td>\n",
              "      <td>Abilene, TX</td>\n",
              "      <td>170219</td>\n",
              "    </tr>\n",
              "    <tr>\n",
              "      <th>1</th>\n",
              "      <td>10420</td>\n",
              "      <td>Akron, OH</td>\n",
              "      <td>703505</td>\n",
              "    </tr>\n",
              "    <tr>\n",
              "      <th>2</th>\n",
              "      <td>10500</td>\n",
              "      <td>Albany, GA</td>\n",
              "      <td>151434</td>\n",
              "    </tr>\n",
              "    <tr>\n",
              "      <th>3</th>\n",
              "      <td>10540</td>\n",
              "      <td>Albany, OR</td>\n",
              "      <td>125047</td>\n",
              "    </tr>\n",
              "    <tr>\n",
              "      <th>4</th>\n",
              "      <td>10580</td>\n",
              "      <td>Albany-Schenectady-Troy, NY</td>\n",
              "      <td>886188</td>\n",
              "    </tr>\n",
              "  </tbody>\n",
              "</table>\n",
              "</div>"
            ],
            "text/plain": [
              "    CBSA                         NAME  POPESTIMATE2017\n",
              "0  10180                  Abilene, TX           170219\n",
              "1  10420                    Akron, OH           703505\n",
              "2  10500                   Albany, GA           151434\n",
              "3  10540                   Albany, OR           125047\n",
              "4  10580  Albany-Schenectady-Troy, NY           886188"
            ]
          },
          "metadata": {
            "tags": []
          },
          "execution_count": 100
        }
      ]
    },
    {
      "cell_type": "code",
      "metadata": {
        "id": "QR-So5DVVtc4",
        "colab_type": "code",
        "outputId": "44d7872c-8f0e-4bdb-842b-fa292ba87a8f",
        "colab": {
          "base_uri": "https://localhost:8080/",
          "height": 34
        }
      },
      "source": [
        "tableids = ['B01001','B03003', 'B19001']\n",
        "tableidstring = ','.join(tableids)\n",
        "tableids"
      ],
      "execution_count": 0,
      "outputs": [
        {
          "output_type": "execute_result",
          "data": {
            "text/plain": [
              "['B01001', 'B03003', 'B19001']"
            ]
          },
          "metadata": {
            "tags": []
          },
          "execution_count": 101
        }
      ]
    },
    {
      "cell_type": "code",
      "metadata": {
        "id": "trHNX7qzXr2c",
        "colab_type": "code",
        "colab": {}
      },
      "source": [
        "requesturl = 'https://api.censusreporter.org/1.0/data/show/latest?table_ids=%s&geo_ids=310|01000US' % tableidstring"
      ],
      "execution_count": 0,
      "outputs": []
    },
    {
      "cell_type": "code",
      "metadata": {
        "id": "vqmSRO5NmCSe",
        "colab_type": "code",
        "colab": {}
      },
      "source": [
        "loadedjson = requests.get(requesturl)"
      ],
      "execution_count": 0,
      "outputs": []
    },
    {
      "cell_type": "markdown",
      "metadata": {
        "id": "QFYUx6BfdoSy",
        "colab_type": "text"
      },
      "source": [
        "parameter 1: Household income 50k-74.9k\n",
        "\n",
        "parameter 2: Age 18-34\n",
        "\n",
        "parameter 3: Large Hispanic Populations "
      ]
    },
    {
      "cell_type": "code",
      "metadata": {
        "id": "sIklJYBKoaaV",
        "colab_type": "code",
        "colab": {}
      },
      "source": [
        "parsedjson = loadedjson.json()"
      ],
      "execution_count": 0,
      "outputs": []
    },
    {
      "cell_type": "code",
      "metadata": {
        "id": "rGd7g3Nje2O4",
        "colab_type": "code",
        "outputId": "99df1616-30b1-4ce4-b88a-39c054ae2723",
        "colab": {
          "base_uri": "https://localhost:8080/",
          "height": 34
        }
      },
      "source": [
        "parsedjson.keys()"
      ],
      "execution_count": 0,
      "outputs": [
        {
          "output_type": "execute_result",
          "data": {
            "text/plain": [
              "dict_keys(['release', 'tables', 'data', 'geography'])"
            ]
          },
          "metadata": {
            "tags": []
          },
          "execution_count": 105
        }
      ]
    },
    {
      "cell_type": "code",
      "metadata": {
        "id": "OUfuvIQzj0uY",
        "colab_type": "code",
        "colab": {}
      },
      "source": [
        "# save age variables\n",
        "ageM18_19 = 'B01001007'\n",
        "ageM20 = 'B01001008'\n",
        "ageM21 = 'B01001009'\n",
        "ageM22_24 = 'B01001010'\n",
        "ageM25_29 = 'B01001011'\n",
        "ageM30_34 = 'B01001012'\n",
        "ageF18_19 = 'B01001031'\n",
        "ageF20 = 'B01001032'\n",
        "ageF21 = 'B01001033'\n",
        "ageF22_24 = 'B01001034'\n",
        "ageF25_29 = 'B01001035'\n",
        "ageF30_34 = 'B01001036'\n",
        "ageTotal = ageM18_19 + ageM20 + ageM21 + ageM22_24 + ageM25_29 + ageM30_34 \\\n",
        "            + ageF18_19 + ageF20 + ageF21 + ageF22_24 + ageF25_29 + ageF30_34"
      ],
      "execution_count": 0,
      "outputs": []
    },
    {
      "cell_type": "code",
      "metadata": {
        "id": "UeZNiOCUaPUk",
        "colab_type": "code",
        "colab": {}
      },
      "source": [
        "# save income variables\n",
        "income50 = 'B19001011'\n",
        "income60 = 'B19001012'\n",
        "incomeTotal = income50 + income60"
      ],
      "execution_count": 0,
      "outputs": []
    },
    {
      "cell_type": "code",
      "metadata": {
        "id": "Do_rZNmvajE5",
        "colab_type": "code",
        "colab": {}
      },
      "source": [
        "# save hispanic variable\n",
        "hispanicPop = 'B03003003'"
      ],
      "execution_count": 0,
      "outputs": []
    },
    {
      "cell_type": "code",
      "metadata": {
        "id": "VVByswSabfpu",
        "colab_type": "code",
        "outputId": "43c0b3ac-2e53-4629-90db-f67a90613811",
        "colab": {
          "base_uri": "https://localhost:8080/",
          "height": 51
        }
      },
      "source": [
        "df = pd.DataFrame({ 'income_50k': { id_: data['B19001']['estimate']['B19001011'] for id_, data in parsedjson['data'].items() }})\n",
        "df.loc[df['income_50k'].idxmax()]"
      ],
      "execution_count": 0,
      "outputs": [
        {
          "output_type": "execute_result",
          "data": {
            "text/plain": [
              "income_50k    444453.0\n",
              "Name: 31000US35620, dtype: float64"
            ]
          },
          "metadata": {
            "tags": []
          },
          "execution_count": 109
        }
      ]
    },
    {
      "cell_type": "code",
      "metadata": {
        "id": "A_RnTKc-bq8A",
        "colab_type": "code",
        "outputId": "da252c7d-24b2-412f-b4c3-8548e626656a",
        "colab": {
          "base_uri": "https://localhost:8080/",
          "height": 51
        }
      },
      "source": [
        "df = pd.DataFrame({ 'income_60k': { id_: data['B19001']['estimate']['B19001012'] for id_, data in parsedjson['data'].items() }})\n",
        "df.loc[df['income_60k'].idxmax()]"
      ],
      "execution_count": 0,
      "outputs": [
        {
          "output_type": "execute_result",
          "data": {
            "text/plain": [
              "income_60k    606435.0\n",
              "Name: 31000US35620, dtype: float64"
            ]
          },
          "metadata": {
            "tags": []
          },
          "execution_count": 110
        }
      ]
    },
    {
      "cell_type": "markdown",
      "metadata": {
        "id": "Ui81d9wcdIQb",
        "colab_type": "text"
      },
      "source": [
        "31000US35620 = Newark, NJ "
      ]
    },
    {
      "cell_type": "code",
      "metadata": {
        "id": "M2Ni_HOhdPey",
        "colab_type": "code",
        "outputId": "d019af09-37e5-4acc-e401-48b064362020",
        "colab": {
          "base_uri": "https://localhost:8080/",
          "height": 51
        }
      },
      "source": [
        "df = pd.DataFrame({ 'ageM18_19': { id_: data['B01001']['estimate']['B01001007'] for id_, data in parsedjson['data'].items() }})\n",
        "df.loc[df['ageM18_19'].idxmax()]"
      ],
      "execution_count": 0,
      "outputs": [
        {
          "output_type": "execute_result",
          "data": {
            "text/plain": [
              "ageM18_19    248434.0\n",
              "Name: 31000US35620, dtype: float64"
            ]
          },
          "metadata": {
            "tags": []
          },
          "execution_count": 111
        }
      ]
    },
    {
      "cell_type": "code",
      "metadata": {
        "id": "aiAR0_sDdy3Z",
        "colab_type": "code",
        "outputId": "13bb5524-acd7-4ad8-8e13-6184953493c7",
        "colab": {
          "base_uri": "https://localhost:8080/",
          "height": 51
        }
      },
      "source": [
        "df = pd.DataFrame({ 'ageM20': { id_: data['B01001']['estimate']['B01001008'] for id_, data in parsedjson['data'].items() }})\n",
        "df.loc[df['ageM20'].idxmax()]"
      ],
      "execution_count": 0,
      "outputs": [
        {
          "output_type": "execute_result",
          "data": {
            "text/plain": [
              "ageM20    133732.0\n",
              "Name: 31000US35620, dtype: float64"
            ]
          },
          "metadata": {
            "tags": []
          },
          "execution_count": 112
        }
      ]
    },
    {
      "cell_type": "code",
      "metadata": {
        "id": "IQXbPeNveJFi",
        "colab_type": "code",
        "outputId": "4a41d9aa-15bf-4a5a-d66e-1f9a87cf1cae",
        "colab": {
          "base_uri": "https://localhost:8080/",
          "height": 51
        }
      },
      "source": [
        "df = pd.DataFrame({ 'ageM21': { id_: data['B01001']['estimate']['B01001009'] for id_, data in parsedjson['data'].items() }})\n",
        "df.loc[df['ageM21'].idxmax()]"
      ],
      "execution_count": 0,
      "outputs": [
        {
          "output_type": "execute_result",
          "data": {
            "text/plain": [
              "ageM21    132580.0\n",
              "Name: 31000US35620, dtype: float64"
            ]
          },
          "metadata": {
            "tags": []
          },
          "execution_count": 113
        }
      ]
    },
    {
      "cell_type": "code",
      "metadata": {
        "id": "kr_59URWeRyD",
        "colab_type": "code",
        "outputId": "dc9b075d-8f35-41e6-c934-9913bd0d4bfd",
        "colab": {
          "base_uri": "https://localhost:8080/",
          "height": 51
        }
      },
      "source": [
        "df = pd.DataFrame({ 'ageM22_24': { id_: data['B01001']['estimate']['B01001010'] for id_, data in parsedjson['data'].items() }})\n",
        "df.loc[df['ageM22_24'].idxmax()]"
      ],
      "execution_count": 0,
      "outputs": [
        {
          "output_type": "execute_result",
          "data": {
            "text/plain": [
              "ageM22_24    411899.0\n",
              "Name: 31000US35620, dtype: float64"
            ]
          },
          "metadata": {
            "tags": []
          },
          "execution_count": 114
        }
      ]
    },
    {
      "cell_type": "code",
      "metadata": {
        "id": "69RsiS8wea9m",
        "colab_type": "code",
        "outputId": "76ace677-67b6-4d52-c996-9a239b3eb615",
        "colab": {
          "base_uri": "https://localhost:8080/",
          "height": 51
        }
      },
      "source": [
        "df = pd.DataFrame({ 'ageM25_29': { id_: data['B01001']['estimate']['B01001011'] for id_, data in parsedjson['data'].items() }})\n",
        "df.loc[df['ageM25_29'].idxmax()]"
      ],
      "execution_count": 0,
      "outputs": [
        {
          "output_type": "execute_result",
          "data": {
            "text/plain": [
              "ageM25_29    750663.0\n",
              "Name: 31000US35620, dtype: float64"
            ]
          },
          "metadata": {
            "tags": []
          },
          "execution_count": 115
        }
      ]
    },
    {
      "cell_type": "code",
      "metadata": {
        "id": "l-imxwuOe-rM",
        "colab_type": "code",
        "outputId": "ac7a4f86-730e-40e5-899b-46787ac672ed",
        "colab": {
          "base_uri": "https://localhost:8080/",
          "height": 51
        }
      },
      "source": [
        "df = pd.DataFrame({ 'ageM30_34': { id_: data['B01001']['estimate']['B01001012'] for id_, data in parsedjson['data'].items() }})\n",
        "df.loc[df['ageM30_34'].idxmax()]"
      ],
      "execution_count": 0,
      "outputs": [
        {
          "output_type": "execute_result",
          "data": {
            "text/plain": [
              "ageM30_34    714983.0\n",
              "Name: 31000US35620, dtype: float64"
            ]
          },
          "metadata": {
            "tags": []
          },
          "execution_count": 116
        }
      ]
    },
    {
      "cell_type": "markdown",
      "metadata": {
        "id": "RrJdKtEVfFGX",
        "colab_type": "text"
      },
      "source": [
        "31000US35620 = Newark New Jersey"
      ]
    },
    {
      "cell_type": "code",
      "metadata": {
        "id": "3LO1Hu-CfMab",
        "colab_type": "code",
        "outputId": "c694f373-6258-4ead-dd2b-1e69c16a1510",
        "colab": {
          "base_uri": "https://localhost:8080/",
          "height": 51
        }
      },
      "source": [
        "df = pd.DataFrame({ 'ageF18_19': { id_: data['B01001']['estimate']['B01001031'] for id_, data in parsedjson['data'].items() }})\n",
        "df.loc[df['ageF18_19'].idxmax()]"
      ],
      "execution_count": 0,
      "outputs": [
        {
          "output_type": "execute_result",
          "data": {
            "text/plain": [
              "ageF18_19    237913.0\n",
              "Name: 31000US35620, dtype: float64"
            ]
          },
          "metadata": {
            "tags": []
          },
          "execution_count": 117
        }
      ]
    },
    {
      "cell_type": "code",
      "metadata": {
        "id": "P-7aUXhAi8Q7",
        "colab_type": "code",
        "outputId": "70d59b7d-48a3-4b6e-d1b6-b9848108c575",
        "colab": {
          "base_uri": "https://localhost:8080/",
          "height": 51
        }
      },
      "source": [
        "df = pd.DataFrame({ 'ageF20': { id_: data['B01001']['estimate']['B01001032'] for id_, data in parsedjson['data'].items() }})\n",
        "df.loc[df['ageF20'].idxmax()]"
      ],
      "execution_count": 0,
      "outputs": [
        {
          "output_type": "execute_result",
          "data": {
            "text/plain": [
              "ageF20    129681.0\n",
              "Name: 31000US35620, dtype: float64"
            ]
          },
          "metadata": {
            "tags": []
          },
          "execution_count": 119
        }
      ]
    },
    {
      "cell_type": "code",
      "metadata": {
        "id": "HHXiuEbNjAkz",
        "colab_type": "code",
        "outputId": "e5dcab7e-c901-458e-975d-9e4d11eaa97f",
        "colab": {
          "base_uri": "https://localhost:8080/",
          "height": 51
        }
      },
      "source": [
        "df = pd.DataFrame({ 'ageF21': { id_: data['B01001']['estimate']['B01001033'] for id_, data in parsedjson['data'].items() }})\n",
        "df.loc[df['ageF21'].idxmax()]"
      ],
      "execution_count": 0,
      "outputs": [
        {
          "output_type": "execute_result",
          "data": {
            "text/plain": [
              "ageF21    129093.0\n",
              "Name: 31000US35620, dtype: float64"
            ]
          },
          "metadata": {
            "tags": []
          },
          "execution_count": 121
        }
      ]
    },
    {
      "cell_type": "code",
      "metadata": {
        "id": "mf4pB3uEjFFA",
        "colab_type": "code",
        "outputId": "42bea776-460b-470f-a5a8-2b83789138fb",
        "colab": {
          "base_uri": "https://localhost:8080/",
          "height": 51
        }
      },
      "source": [
        "df = pd.DataFrame({ 'ageF22_24': { id_: data['B01001']['estimate']['B01001034'] for id_, data in parsedjson['data'].items() }})\n",
        "df.loc[df['ageF22_24'].idxmax()]"
      ],
      "execution_count": 0,
      "outputs": [
        {
          "output_type": "execute_result",
          "data": {
            "text/plain": [
              "ageF22_24    416225.0\n",
              "Name: 31000US35620, dtype: float64"
            ]
          },
          "metadata": {
            "tags": []
          },
          "execution_count": 122
        }
      ]
    },
    {
      "cell_type": "code",
      "metadata": {
        "id": "MgkZu3gjjSBx",
        "colab_type": "code",
        "outputId": "b2c88443-1280-4ebf-f41c-efe6a23f4b07",
        "colab": {
          "base_uri": "https://localhost:8080/",
          "height": 51
        }
      },
      "source": [
        "df = pd.DataFrame({ 'ageF25_29': { id_: data['B01001']['estimate']['B01001035'] for id_, data in parsedjson['data'].items() }})\n",
        "df.loc[df['ageF25_29'].idxmax()]"
      ],
      "execution_count": 0,
      "outputs": [
        {
          "output_type": "execute_result",
          "data": {
            "text/plain": [
              "ageF25_29    762402.0\n",
              "Name: 31000US35620, dtype: float64"
            ]
          },
          "metadata": {
            "tags": []
          },
          "execution_count": 123
        }
      ]
    },
    {
      "cell_type": "code",
      "metadata": {
        "id": "Rz5Nv_TljXYt",
        "colab_type": "code",
        "outputId": "2272ae16-abe6-4f5c-c2b0-3a2edbe92048",
        "colab": {
          "base_uri": "https://localhost:8080/",
          "height": 51
        }
      },
      "source": [
        "df = pd.DataFrame({ 'ageF30_34': { id_: data['B01001']['estimate']['B01001036'] for id_, data in parsedjson['data'].items() }})\n",
        "df.loc[df['ageF30_34'].idxmax()]"
      ],
      "execution_count": 0,
      "outputs": [
        {
          "output_type": "execute_result",
          "data": {
            "text/plain": [
              "ageF30_34    730200.0\n",
              "Name: 31000US35620, dtype: float64"
            ]
          },
          "metadata": {
            "tags": []
          },
          "execution_count": 125
        }
      ]
    },
    {
      "cell_type": "markdown",
      "metadata": {
        "id": "xV7Xm9JojfPw",
        "colab_type": "text"
      },
      "source": [
        "31000US35620 = Newark New Jersey"
      ]
    },
    {
      "cell_type": "code",
      "metadata": {
        "id": "MRGmcuGOfdLZ",
        "colab_type": "code",
        "outputId": "52ca7041-a7ff-4b4a-b83b-4c5308c69e94",
        "colab": {
          "base_uri": "https://localhost:8080/",
          "height": 51
        }
      },
      "source": [
        "df = pd.DataFrame({ 'hispanicPop': { id_: data['B03003']['estimate']['B03003003'] for id_, data in parsedjson['data'].items() }})\n",
        "df.loc[df['hispanicPop'].idxmax()]"
      ],
      "execution_count": 0,
      "outputs": [
        {
          "output_type": "execute_result",
          "data": {
            "text/plain": [
              "hispanicPop    5972751.0\n",
              "Name: 31000US31080, dtype: float64"
            ]
          },
          "metadata": {
            "tags": []
          },
          "execution_count": 118
        }
      ]
    },
    {
      "cell_type": "markdown",
      "metadata": {
        "id": "IM2RKNZIi1h0",
        "colab_type": "text"
      },
      "source": [
        "31000US31080 = Los Angeles, CA"
      ]
    }
  ]
}